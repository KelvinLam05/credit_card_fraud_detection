{
  "nbformat": 4,
  "nbformat_minor": 0,
  "metadata": {
    "colab": {
      "name": "credit_card_fraud_detection.ipynb",
      "provenance": [],
      "collapsed_sections": [],
      "authorship_tag": "ABX9TyP4I/Bo5V+18o3BLzKvC+mA",
      "include_colab_link": true
    },
    "kernelspec": {
      "name": "python3",
      "display_name": "Python 3"
    },
    "language_info": {
      "name": "python"
    },
    "gpuClass": "standard"
  },
  "cells": [
    {
      "cell_type": "markdown",
      "metadata": {
        "id": "view-in-github",
        "colab_type": "text"
      },
      "source": [
        "<a href=\"https://colab.research.google.com/github/KelvinLam05/credit_card_fraud_detection/blob/main/credit_card_fraud_detection.ipynb\" target=\"_parent\"><img src=\"https://colab.research.google.com/assets/colab-badge.svg\" alt=\"Open In Colab\"/></a>"
      ]
    },
    {
      "cell_type": "markdown",
      "source": [
        "**Goal of the project**"
      ],
      "metadata": {
        "id": "Nx2galnYYiSm"
      }
    },
    {
      "cell_type": "markdown",
      "source": [
        "The challenge is to recognize fraudulent credit card transactions so that the customers of credit card companies are not charged for items that they did not purchase."
      ],
      "metadata": {
        "id": "XomsNtUiUzR0"
      }
    },
    {
      "cell_type": "markdown",
      "source": [
        "**Load the packages**"
      ],
      "metadata": {
        "id": "TrZ7xnbTDfLl"
      }
    },
    {
      "cell_type": "code",
      "metadata": {
        "id": "Xqf7m2b1qd5w"
      },
      "source": [
        "# Importing library\n",
        "import pandas as pd"
      ],
      "execution_count": null,
      "outputs": []
    },
    {
      "cell_type": "markdown",
      "source": [
        "**Load the data**"
      ],
      "metadata": {
        "id": "ywSljYg6BpZP"
      }
    },
    {
      "cell_type": "markdown",
      "source": [
        "For this project I’ve used the [Credit Card Fraud Detection](https://www.kaggle.com/datasets/mlg-ulb/creditcardfraud) dataset from Kaggle. This anonymised dataset contains transactions made by credit cards in September 2013 by European cardholders."
      ],
      "metadata": {
        "id": "rB6XppMOBzdA"
      }
    },
    {
      "cell_type": "code",
      "metadata": {
        "id": "__mZvxVUqjxW"
      },
      "source": [
        "# Load dataset\n",
        "df = pd.read_csv('/content/credit_card_fraud.csv')"
      ],
      "execution_count": null,
      "outputs": []
    },
    {
      "cell_type": "code",
      "source": [
        "# Rename Pandas columns to lower case\n",
        "df.columns = df.columns.str.lower()"
      ],
      "metadata": {
        "id": "j6pbb0sn_eVn"
      },
      "execution_count": null,
      "outputs": []
    },
    {
      "cell_type": "code",
      "source": [
        "df = df.applymap(lambda s: s.lower() if type(s) == str else s)"
      ],
      "metadata": {
        "id": "JxDaswAE_iDB"
      },
      "execution_count": null,
      "outputs": []
    },
    {
      "cell_type": "code",
      "metadata": {
        "colab": {
          "base_uri": "https://localhost:8080/",
          "height": 297
        },
        "id": "sUrlUJxPrRAw",
        "outputId": "762075a0-88b8-4611-8479-61bc807d7ab2"
      },
      "source": [
        "# Examine the data\n",
        "df.head()"
      ],
      "execution_count": null,
      "outputs": [
        {
          "output_type": "execute_result",
          "data": {
            "text/plain": [
              "   time        v1        v2        v3        v4        v5        v6        v7  \\\n",
              "0   0.0 -1.359807 -0.072781  2.536347  1.378155 -0.338321  0.462388  0.239599   \n",
              "1   0.0  1.191857  0.266151  0.166480  0.448154  0.060018 -0.082361 -0.078803   \n",
              "2   1.0 -1.358354 -1.340163  1.773209  0.379780 -0.503198  1.800499  0.791461   \n",
              "3   1.0 -0.966272 -0.185226  1.792993 -0.863291 -0.010309  1.247203  0.237609   \n",
              "4   2.0 -1.158233  0.877737  1.548718  0.403034 -0.407193  0.095921  0.592941   \n",
              "\n",
              "         v8        v9  ...       v21       v22       v23       v24       v25  \\\n",
              "0  0.098698  0.363787  ... -0.018307  0.277838 -0.110474  0.066928  0.128539   \n",
              "1  0.085102 -0.255425  ... -0.225775 -0.638672  0.101288 -0.339846  0.167170   \n",
              "2  0.247676 -1.514654  ...  0.247998  0.771679  0.909412 -0.689281 -0.327642   \n",
              "3  0.377436 -1.387024  ... -0.108300  0.005274 -0.190321 -1.175575  0.647376   \n",
              "4 -0.270533  0.817739  ... -0.009431  0.798278 -0.137458  0.141267 -0.206010   \n",
              "\n",
              "        v26       v27       v28  amount  class  \n",
              "0 -0.189115  0.133558 -0.021053  149.62      0  \n",
              "1  0.125895 -0.008983  0.014724    2.69      0  \n",
              "2 -0.139097 -0.055353 -0.059752  378.66      0  \n",
              "3 -0.221929  0.062723  0.061458  123.50      0  \n",
              "4  0.502292  0.219422  0.215153   69.99      0  \n",
              "\n",
              "[5 rows x 31 columns]"
            ],
            "text/html": [
              "\n",
              "  <div id=\"df-74093c42-4580-4139-9198-b2833f1a61c4\">\n",
              "    <div class=\"colab-df-container\">\n",
              "      <div>\n",
              "<style scoped>\n",
              "    .dataframe tbody tr th:only-of-type {\n",
              "        vertical-align: middle;\n",
              "    }\n",
              "\n",
              "    .dataframe tbody tr th {\n",
              "        vertical-align: top;\n",
              "    }\n",
              "\n",
              "    .dataframe thead th {\n",
              "        text-align: right;\n",
              "    }\n",
              "</style>\n",
              "<table border=\"1\" class=\"dataframe\">\n",
              "  <thead>\n",
              "    <tr style=\"text-align: right;\">\n",
              "      <th></th>\n",
              "      <th>time</th>\n",
              "      <th>v1</th>\n",
              "      <th>v2</th>\n",
              "      <th>v3</th>\n",
              "      <th>v4</th>\n",
              "      <th>v5</th>\n",
              "      <th>v6</th>\n",
              "      <th>v7</th>\n",
              "      <th>v8</th>\n",
              "      <th>v9</th>\n",
              "      <th>...</th>\n",
              "      <th>v21</th>\n",
              "      <th>v22</th>\n",
              "      <th>v23</th>\n",
              "      <th>v24</th>\n",
              "      <th>v25</th>\n",
              "      <th>v26</th>\n",
              "      <th>v27</th>\n",
              "      <th>v28</th>\n",
              "      <th>amount</th>\n",
              "      <th>class</th>\n",
              "    </tr>\n",
              "  </thead>\n",
              "  <tbody>\n",
              "    <tr>\n",
              "      <th>0</th>\n",
              "      <td>0.0</td>\n",
              "      <td>-1.359807</td>\n",
              "      <td>-0.072781</td>\n",
              "      <td>2.536347</td>\n",
              "      <td>1.378155</td>\n",
              "      <td>-0.338321</td>\n",
              "      <td>0.462388</td>\n",
              "      <td>0.239599</td>\n",
              "      <td>0.098698</td>\n",
              "      <td>0.363787</td>\n",
              "      <td>...</td>\n",
              "      <td>-0.018307</td>\n",
              "      <td>0.277838</td>\n",
              "      <td>-0.110474</td>\n",
              "      <td>0.066928</td>\n",
              "      <td>0.128539</td>\n",
              "      <td>-0.189115</td>\n",
              "      <td>0.133558</td>\n",
              "      <td>-0.021053</td>\n",
              "      <td>149.62</td>\n",
              "      <td>0</td>\n",
              "    </tr>\n",
              "    <tr>\n",
              "      <th>1</th>\n",
              "      <td>0.0</td>\n",
              "      <td>1.191857</td>\n",
              "      <td>0.266151</td>\n",
              "      <td>0.166480</td>\n",
              "      <td>0.448154</td>\n",
              "      <td>0.060018</td>\n",
              "      <td>-0.082361</td>\n",
              "      <td>-0.078803</td>\n",
              "      <td>0.085102</td>\n",
              "      <td>-0.255425</td>\n",
              "      <td>...</td>\n",
              "      <td>-0.225775</td>\n",
              "      <td>-0.638672</td>\n",
              "      <td>0.101288</td>\n",
              "      <td>-0.339846</td>\n",
              "      <td>0.167170</td>\n",
              "      <td>0.125895</td>\n",
              "      <td>-0.008983</td>\n",
              "      <td>0.014724</td>\n",
              "      <td>2.69</td>\n",
              "      <td>0</td>\n",
              "    </tr>\n",
              "    <tr>\n",
              "      <th>2</th>\n",
              "      <td>1.0</td>\n",
              "      <td>-1.358354</td>\n",
              "      <td>-1.340163</td>\n",
              "      <td>1.773209</td>\n",
              "      <td>0.379780</td>\n",
              "      <td>-0.503198</td>\n",
              "      <td>1.800499</td>\n",
              "      <td>0.791461</td>\n",
              "      <td>0.247676</td>\n",
              "      <td>-1.514654</td>\n",
              "      <td>...</td>\n",
              "      <td>0.247998</td>\n",
              "      <td>0.771679</td>\n",
              "      <td>0.909412</td>\n",
              "      <td>-0.689281</td>\n",
              "      <td>-0.327642</td>\n",
              "      <td>-0.139097</td>\n",
              "      <td>-0.055353</td>\n",
              "      <td>-0.059752</td>\n",
              "      <td>378.66</td>\n",
              "      <td>0</td>\n",
              "    </tr>\n",
              "    <tr>\n",
              "      <th>3</th>\n",
              "      <td>1.0</td>\n",
              "      <td>-0.966272</td>\n",
              "      <td>-0.185226</td>\n",
              "      <td>1.792993</td>\n",
              "      <td>-0.863291</td>\n",
              "      <td>-0.010309</td>\n",
              "      <td>1.247203</td>\n",
              "      <td>0.237609</td>\n",
              "      <td>0.377436</td>\n",
              "      <td>-1.387024</td>\n",
              "      <td>...</td>\n",
              "      <td>-0.108300</td>\n",
              "      <td>0.005274</td>\n",
              "      <td>-0.190321</td>\n",
              "      <td>-1.175575</td>\n",
              "      <td>0.647376</td>\n",
              "      <td>-0.221929</td>\n",
              "      <td>0.062723</td>\n",
              "      <td>0.061458</td>\n",
              "      <td>123.50</td>\n",
              "      <td>0</td>\n",
              "    </tr>\n",
              "    <tr>\n",
              "      <th>4</th>\n",
              "      <td>2.0</td>\n",
              "      <td>-1.158233</td>\n",
              "      <td>0.877737</td>\n",
              "      <td>1.548718</td>\n",
              "      <td>0.403034</td>\n",
              "      <td>-0.407193</td>\n",
              "      <td>0.095921</td>\n",
              "      <td>0.592941</td>\n",
              "      <td>-0.270533</td>\n",
              "      <td>0.817739</td>\n",
              "      <td>...</td>\n",
              "      <td>-0.009431</td>\n",
              "      <td>0.798278</td>\n",
              "      <td>-0.137458</td>\n",
              "      <td>0.141267</td>\n",
              "      <td>-0.206010</td>\n",
              "      <td>0.502292</td>\n",
              "      <td>0.219422</td>\n",
              "      <td>0.215153</td>\n",
              "      <td>69.99</td>\n",
              "      <td>0</td>\n",
              "    </tr>\n",
              "  </tbody>\n",
              "</table>\n",
              "<p>5 rows × 31 columns</p>\n",
              "</div>\n",
              "      <button class=\"colab-df-convert\" onclick=\"convertToInteractive('df-74093c42-4580-4139-9198-b2833f1a61c4')\"\n",
              "              title=\"Convert this dataframe to an interactive table.\"\n",
              "              style=\"display:none;\">\n",
              "        \n",
              "  <svg xmlns=\"http://www.w3.org/2000/svg\" height=\"24px\"viewBox=\"0 0 24 24\"\n",
              "       width=\"24px\">\n",
              "    <path d=\"M0 0h24v24H0V0z\" fill=\"none\"/>\n",
              "    <path d=\"M18.56 5.44l.94 2.06.94-2.06 2.06-.94-2.06-.94-.94-2.06-.94 2.06-2.06.94zm-11 1L8.5 8.5l.94-2.06 2.06-.94-2.06-.94L8.5 2.5l-.94 2.06-2.06.94zm10 10l.94 2.06.94-2.06 2.06-.94-2.06-.94-.94-2.06-.94 2.06-2.06.94z\"/><path d=\"M17.41 7.96l-1.37-1.37c-.4-.4-.92-.59-1.43-.59-.52 0-1.04.2-1.43.59L10.3 9.45l-7.72 7.72c-.78.78-.78 2.05 0 2.83L4 21.41c.39.39.9.59 1.41.59.51 0 1.02-.2 1.41-.59l7.78-7.78 2.81-2.81c.8-.78.8-2.07 0-2.86zM5.41 20L4 18.59l7.72-7.72 1.47 1.35L5.41 20z\"/>\n",
              "  </svg>\n",
              "      </button>\n",
              "      \n",
              "  <style>\n",
              "    .colab-df-container {\n",
              "      display:flex;\n",
              "      flex-wrap:wrap;\n",
              "      gap: 12px;\n",
              "    }\n",
              "\n",
              "    .colab-df-convert {\n",
              "      background-color: #E8F0FE;\n",
              "      border: none;\n",
              "      border-radius: 50%;\n",
              "      cursor: pointer;\n",
              "      display: none;\n",
              "      fill: #1967D2;\n",
              "      height: 32px;\n",
              "      padding: 0 0 0 0;\n",
              "      width: 32px;\n",
              "    }\n",
              "\n",
              "    .colab-df-convert:hover {\n",
              "      background-color: #E2EBFA;\n",
              "      box-shadow: 0px 1px 2px rgba(60, 64, 67, 0.3), 0px 1px 3px 1px rgba(60, 64, 67, 0.15);\n",
              "      fill: #174EA6;\n",
              "    }\n",
              "\n",
              "    [theme=dark] .colab-df-convert {\n",
              "      background-color: #3B4455;\n",
              "      fill: #D2E3FC;\n",
              "    }\n",
              "\n",
              "    [theme=dark] .colab-df-convert:hover {\n",
              "      background-color: #434B5C;\n",
              "      box-shadow: 0px 1px 3px 1px rgba(0, 0, 0, 0.15);\n",
              "      filter: drop-shadow(0px 1px 2px rgba(0, 0, 0, 0.3));\n",
              "      fill: #FFFFFF;\n",
              "    }\n",
              "  </style>\n",
              "\n",
              "      <script>\n",
              "        const buttonEl =\n",
              "          document.querySelector('#df-74093c42-4580-4139-9198-b2833f1a61c4 button.colab-df-convert');\n",
              "        buttonEl.style.display =\n",
              "          google.colab.kernel.accessAllowed ? 'block' : 'none';\n",
              "\n",
              "        async function convertToInteractive(key) {\n",
              "          const element = document.querySelector('#df-74093c42-4580-4139-9198-b2833f1a61c4');\n",
              "          const dataTable =\n",
              "            await google.colab.kernel.invokeFunction('convertToInteractive',\n",
              "                                                     [key], {});\n",
              "          if (!dataTable) return;\n",
              "\n",
              "          const docLinkHtml = 'Like what you see? Visit the ' +\n",
              "            '<a target=\"_blank\" href=https://colab.research.google.com/notebooks/data_table.ipynb>data table notebook</a>'\n",
              "            + ' to learn more about interactive tables.';\n",
              "          element.innerHTML = '';\n",
              "          dataTable['output_type'] = 'display_data';\n",
              "          await google.colab.output.renderOutput(dataTable, element);\n",
              "          const docLink = document.createElement('div');\n",
              "          docLink.innerHTML = docLinkHtml;\n",
              "          element.appendChild(docLink);\n",
              "        }\n",
              "      </script>\n",
              "    </div>\n",
              "  </div>\n",
              "  "
            ]
          },
          "metadata": {},
          "execution_count": 567
        }
      ]
    },
    {
      "cell_type": "code",
      "metadata": {
        "colab": {
          "base_uri": "https://localhost:8080/"
        },
        "id": "cVkxpkp2rUXS",
        "outputId": "26061c5f-9aaa-4495-f491-2b7e19e3290f"
      },
      "source": [
        "# Overview of all variables, their datatypes\n",
        "df.info()"
      ],
      "execution_count": null,
      "outputs": [
        {
          "output_type": "stream",
          "name": "stdout",
          "text": [
            "<class 'pandas.core.frame.DataFrame'>\n",
            "RangeIndex: 284807 entries, 0 to 284806\n",
            "Data columns (total 31 columns):\n",
            " #   Column  Non-Null Count   Dtype  \n",
            "---  ------  --------------   -----  \n",
            " 0   time    284807 non-null  float64\n",
            " 1   v1      284807 non-null  float64\n",
            " 2   v2      284807 non-null  float64\n",
            " 3   v3      284807 non-null  float64\n",
            " 4   v4      284807 non-null  float64\n",
            " 5   v5      284807 non-null  float64\n",
            " 6   v6      284807 non-null  float64\n",
            " 7   v7      284807 non-null  float64\n",
            " 8   v8      284807 non-null  float64\n",
            " 9   v9      284807 non-null  float64\n",
            " 10  v10     284807 non-null  float64\n",
            " 11  v11     284807 non-null  float64\n",
            " 12  v12     284807 non-null  float64\n",
            " 13  v13     284807 non-null  float64\n",
            " 14  v14     284807 non-null  float64\n",
            " 15  v15     284807 non-null  float64\n",
            " 16  v16     284807 non-null  float64\n",
            " 17  v17     284807 non-null  float64\n",
            " 18  v18     284807 non-null  float64\n",
            " 19  v19     284807 non-null  float64\n",
            " 20  v20     284807 non-null  float64\n",
            " 21  v21     284807 non-null  float64\n",
            " 22  v22     284807 non-null  float64\n",
            " 23  v23     284807 non-null  float64\n",
            " 24  v24     284807 non-null  float64\n",
            " 25  v25     284807 non-null  float64\n",
            " 26  v26     284807 non-null  float64\n",
            " 27  v27     284807 non-null  float64\n",
            " 28  v28     284807 non-null  float64\n",
            " 29  amount  284807 non-null  float64\n",
            " 30  class   284807 non-null  int64  \n",
            "dtypes: float64(30), int64(1)\n",
            "memory usage: 67.4 MB\n"
          ]
        }
      ]
    },
    {
      "cell_type": "markdown",
      "source": [
        "**Examine the class imbalance**"
      ],
      "metadata": {
        "id": "5jo3_O5ciivm"
      }
    },
    {
      "cell_type": "markdown",
      "source": [
        "To examine the class imbalance of a data set you can use the Pandas value_counts( ) function on the target column of the dataframe, which is called class on this data set. As you can see, we have 284,315 non-fraudulent transactions in class 0 and 492 fraudulent transactions in class 1. This will represent a massive challenge for most models, since they will favour the dominant class and predict that the very vast majority of orders are non-fraudulent."
      ],
      "metadata": {
        "id": "4fkspzoQos5b"
      }
    },
    {
      "cell_type": "code",
      "source": [
        "df['class'].value_counts()"
      ],
      "metadata": {
        "colab": {
          "base_uri": "https://localhost:8080/"
        },
        "id": "VL3b0JFUoff4",
        "outputId": "1ee9528c-17f6-4e3f-de8d-b3c05b4bf88c"
      },
      "execution_count": null,
      "outputs": [
        {
          "output_type": "execute_result",
          "data": {
            "text/plain": [
              "0    284315\n",
              "1       492\n",
              "Name: class, dtype: int64"
            ]
          },
          "metadata": {},
          "execution_count": 569
        }
      ]
    },
    {
      "cell_type": "markdown",
      "source": [
        "By grouping by the class column and then creating an agg( ) we can calculate the costs of fraud. The data set is based on a two day period, in which there were 492 fraudulent transactions potentially generating £60,127.97 in lost revenue. Using a naiive extrapolation, as we don’t have the full data set, this is equivalent to £30,063.98 per day. Therefore, we’re looking at annual fraud costs of around £10,973,354."
      ],
      "metadata": {
        "id": "072zhC4W2FVV"
      }
    },
    {
      "cell_type": "code",
      "source": [
        "df.groupby('class').agg(transactions = ('class', 'count'), total_revenue = ('amount', 'sum')).round(2)"
      ],
      "metadata": {
        "colab": {
          "base_uri": "https://localhost:8080/",
          "height": 142
        },
        "id": "JBoRQ7AJ2NfV",
        "outputId": "cd23b12c-f783-4000-c82f-ca528fec56f2"
      },
      "execution_count": null,
      "outputs": [
        {
          "output_type": "execute_result",
          "data": {
            "text/plain": [
              "       transactions  total_revenue\n",
              "class                             \n",
              "0            284315    25102462.04\n",
              "1               492       60127.97"
            ],
            "text/html": [
              "\n",
              "  <div id=\"df-c2dd3e6e-99c4-46c7-bac1-016113764247\">\n",
              "    <div class=\"colab-df-container\">\n",
              "      <div>\n",
              "<style scoped>\n",
              "    .dataframe tbody tr th:only-of-type {\n",
              "        vertical-align: middle;\n",
              "    }\n",
              "\n",
              "    .dataframe tbody tr th {\n",
              "        vertical-align: top;\n",
              "    }\n",
              "\n",
              "    .dataframe thead th {\n",
              "        text-align: right;\n",
              "    }\n",
              "</style>\n",
              "<table border=\"1\" class=\"dataframe\">\n",
              "  <thead>\n",
              "    <tr style=\"text-align: right;\">\n",
              "      <th></th>\n",
              "      <th>transactions</th>\n",
              "      <th>total_revenue</th>\n",
              "    </tr>\n",
              "    <tr>\n",
              "      <th>class</th>\n",
              "      <th></th>\n",
              "      <th></th>\n",
              "    </tr>\n",
              "  </thead>\n",
              "  <tbody>\n",
              "    <tr>\n",
              "      <th>0</th>\n",
              "      <td>284315</td>\n",
              "      <td>25102462.04</td>\n",
              "    </tr>\n",
              "    <tr>\n",
              "      <th>1</th>\n",
              "      <td>492</td>\n",
              "      <td>60127.97</td>\n",
              "    </tr>\n",
              "  </tbody>\n",
              "</table>\n",
              "</div>\n",
              "      <button class=\"colab-df-convert\" onclick=\"convertToInteractive('df-c2dd3e6e-99c4-46c7-bac1-016113764247')\"\n",
              "              title=\"Convert this dataframe to an interactive table.\"\n",
              "              style=\"display:none;\">\n",
              "        \n",
              "  <svg xmlns=\"http://www.w3.org/2000/svg\" height=\"24px\"viewBox=\"0 0 24 24\"\n",
              "       width=\"24px\">\n",
              "    <path d=\"M0 0h24v24H0V0z\" fill=\"none\"/>\n",
              "    <path d=\"M18.56 5.44l.94 2.06.94-2.06 2.06-.94-2.06-.94-.94-2.06-.94 2.06-2.06.94zm-11 1L8.5 8.5l.94-2.06 2.06-.94-2.06-.94L8.5 2.5l-.94 2.06-2.06.94zm10 10l.94 2.06.94-2.06 2.06-.94-2.06-.94-.94-2.06-.94 2.06-2.06.94z\"/><path d=\"M17.41 7.96l-1.37-1.37c-.4-.4-.92-.59-1.43-.59-.52 0-1.04.2-1.43.59L10.3 9.45l-7.72 7.72c-.78.78-.78 2.05 0 2.83L4 21.41c.39.39.9.59 1.41.59.51 0 1.02-.2 1.41-.59l7.78-7.78 2.81-2.81c.8-.78.8-2.07 0-2.86zM5.41 20L4 18.59l7.72-7.72 1.47 1.35L5.41 20z\"/>\n",
              "  </svg>\n",
              "      </button>\n",
              "      \n",
              "  <style>\n",
              "    .colab-df-container {\n",
              "      display:flex;\n",
              "      flex-wrap:wrap;\n",
              "      gap: 12px;\n",
              "    }\n",
              "\n",
              "    .colab-df-convert {\n",
              "      background-color: #E8F0FE;\n",
              "      border: none;\n",
              "      border-radius: 50%;\n",
              "      cursor: pointer;\n",
              "      display: none;\n",
              "      fill: #1967D2;\n",
              "      height: 32px;\n",
              "      padding: 0 0 0 0;\n",
              "      width: 32px;\n",
              "    }\n",
              "\n",
              "    .colab-df-convert:hover {\n",
              "      background-color: #E2EBFA;\n",
              "      box-shadow: 0px 1px 2px rgba(60, 64, 67, 0.3), 0px 1px 3px 1px rgba(60, 64, 67, 0.15);\n",
              "      fill: #174EA6;\n",
              "    }\n",
              "\n",
              "    [theme=dark] .colab-df-convert {\n",
              "      background-color: #3B4455;\n",
              "      fill: #D2E3FC;\n",
              "    }\n",
              "\n",
              "    [theme=dark] .colab-df-convert:hover {\n",
              "      background-color: #434B5C;\n",
              "      box-shadow: 0px 1px 3px 1px rgba(0, 0, 0, 0.15);\n",
              "      filter: drop-shadow(0px 1px 2px rgba(0, 0, 0, 0.3));\n",
              "      fill: #FFFFFF;\n",
              "    }\n",
              "  </style>\n",
              "\n",
              "      <script>\n",
              "        const buttonEl =\n",
              "          document.querySelector('#df-c2dd3e6e-99c4-46c7-bac1-016113764247 button.colab-df-convert');\n",
              "        buttonEl.style.display =\n",
              "          google.colab.kernel.accessAllowed ? 'block' : 'none';\n",
              "\n",
              "        async function convertToInteractive(key) {\n",
              "          const element = document.querySelector('#df-c2dd3e6e-99c4-46c7-bac1-016113764247');\n",
              "          const dataTable =\n",
              "            await google.colab.kernel.invokeFunction('convertToInteractive',\n",
              "                                                     [key], {});\n",
              "          if (!dataTable) return;\n",
              "\n",
              "          const docLinkHtml = 'Like what you see? Visit the ' +\n",
              "            '<a target=\"_blank\" href=https://colab.research.google.com/notebooks/data_table.ipynb>data table notebook</a>'\n",
              "            + ' to learn more about interactive tables.';\n",
              "          element.innerHTML = '';\n",
              "          dataTable['output_type'] = 'display_data';\n",
              "          await google.colab.output.renderOutput(dataTable, element);\n",
              "          const docLink = document.createElement('div');\n",
              "          docLink.innerHTML = docLinkHtml;\n",
              "          element.appendChild(docLink);\n",
              "        }\n",
              "      </script>\n",
              "    </div>\n",
              "  </div>\n",
              "  "
            ]
          },
          "metadata": {},
          "execution_count": 601
        }
      ]
    },
    {
      "cell_type": "markdown",
      "source": [
        "**Split the data**"
      ],
      "metadata": {
        "id": "sPAXr2uMpnDx"
      }
    },
    {
      "cell_type": "code",
      "source": [
        "X = df.drop('class', axis = 1)"
      ],
      "metadata": {
        "id": "gPKzc6DfomI8"
      },
      "execution_count": null,
      "outputs": []
    },
    {
      "cell_type": "code",
      "source": [
        "y = df['class']"
      ],
      "metadata": {
        "id": "X6nc5bfjorTg"
      },
      "execution_count": null,
      "outputs": []
    },
    {
      "cell_type": "code",
      "source": [
        "from sklearn.model_selection import train_test_split"
      ],
      "metadata": {
        "id": "k4aRdGli6qR-"
      },
      "execution_count": null,
      "outputs": []
    },
    {
      "cell_type": "code",
      "source": [
        "X_train, X_test, y_train, y_test = train_test_split(X, y, test_size = 0.3, stratify = y)"
      ],
      "metadata": {
        "id": "3LsXtOf_6tFG"
      },
      "execution_count": null,
      "outputs": []
    },
    {
      "cell_type": "code",
      "source": [
        "train_df = X_train.join(y_train)"
      ],
      "metadata": {
        "id": "7aESRJMJOt_s"
      },
      "execution_count": null,
      "outputs": []
    },
    {
      "cell_type": "code",
      "source": [
        "test_df = X_test.join(y_test)"
      ],
      "metadata": {
        "id": "JUagLZd_UBRY"
      },
      "execution_count": null,
      "outputs": []
    },
    {
      "cell_type": "markdown",
      "source": [
        "**Neural network**"
      ],
      "metadata": {
        "id": "Yqi8JKKvXSYq"
      }
    },
    {
      "cell_type": "markdown",
      "source": [
        "We will be using the powerful FastAI library which is built on top of PyTorch here to fit a neural network to our data. To do so, we would have to preprocess our data and create dataloaders to feed the data into the neural network."
      ],
      "metadata": {
        "id": "T5kUqleIXLwT"
      }
    },
    {
      "cell_type": "markdown",
      "source": [
        "**The dataloaders**"
      ],
      "metadata": {
        "id": "sYBNLWVIi5j3"
      }
    },
    {
      "cell_type": "markdown",
      "source": [
        "Now let's build our TabularPandas for classifying. We're also going to want to split our data and declare our y_names too:"
      ],
      "metadata": {
        "id": "j6Pi7h8AnQ7v"
      }
    },
    {
      "cell_type": "code",
      "source": [
        "from fastai.tabular.all import *"
      ],
      "metadata": {
        "id": "h6QSyAln1SHR"
      },
      "execution_count": null,
      "outputs": []
    },
    {
      "cell_type": "code",
      "source": [
        "splits = RandomSplitter(seed = 42)(range_of(train_df))"
      ],
      "metadata": {
        "id": "2DmqJYRfBlLu"
      },
      "execution_count": null,
      "outputs": []
    },
    {
      "cell_type": "markdown",
      "source": [
        "We'll use all our cat and cont names, the procs, declare a y_name, and finally specify a single-label classification problem with CategoryBlock."
      ],
      "metadata": {
        "id": "u8WbbCFBmg1s"
      }
    },
    {
      "cell_type": "code",
      "source": [
        "cont_names, cat_names = cont_cat_split(train_df, dep_var = 'class')\n",
        "procs = [FillMissing, Categorify, Normalize]\n",
        "y_names = 'class'\n",
        "y_block = CategoryBlock()"
      ],
      "metadata": {
        "id": "96Kv2IT0fdvi"
      },
      "execution_count": null,
      "outputs": []
    },
    {
      "cell_type": "markdown",
      "source": [
        "Now that we have everything declared, let's build our TabularPandas:"
      ],
      "metadata": {
        "id": "d51DjM6am4GO"
      }
    },
    {
      "cell_type": "code",
      "source": [
        "# Define TabularPandas object\n",
        "to = TabularPandas(df, procs = procs, cat_names = cat_names, cont_names = cont_names, y_names = y_names, splits = splits, y_block = y_block)"
      ],
      "metadata": {
        "id": "wTNABZOmc3wF"
      },
      "execution_count": null,
      "outputs": []
    },
    {
      "cell_type": "code",
      "source": [
        "df[y_names] = df[y_names].astype('category')"
      ],
      "metadata": {
        "id": "JO3F6FJ4zD7t"
      },
      "execution_count": null,
      "outputs": []
    },
    {
      "cell_type": "markdown",
      "source": [
        "And now we can build the DataLoaders."
      ],
      "metadata": {
        "id": "K4JX-hoXndwt"
      }
    },
    {
      "cell_type": "code",
      "source": [
        "dls = to.dataloaders(bs = 1024)"
      ],
      "metadata": {
        "id": "XdruT4diEneI"
      },
      "execution_count": null,
      "outputs": []
    },
    {
      "cell_type": "markdown",
      "source": [
        "And show a batch of data:"
      ],
      "metadata": {
        "id": "c7q-xaM1nke_"
      }
    },
    {
      "cell_type": "code",
      "source": [
        "dls.show_batch()"
      ],
      "metadata": {
        "colab": {
          "base_uri": "https://localhost:8080/",
          "height": 379
        },
        "id": "NAxjWe4a6en6",
        "outputId": "9b16f39f-f106-4c1b-9f8b-083a60b51c78"
      },
      "execution_count": null,
      "outputs": [
        {
          "output_type": "display_data",
          "data": {
            "text/plain": [
              "<IPython.core.display.HTML object>"
            ],
            "text/html": [
              "<table border=\"1\" class=\"dataframe\">\n",
              "  <thead>\n",
              "    <tr style=\"text-align: right;\">\n",
              "      <th></th>\n",
              "      <th>time</th>\n",
              "      <th>v1</th>\n",
              "      <th>v2</th>\n",
              "      <th>v3</th>\n",
              "      <th>v4</th>\n",
              "      <th>v5</th>\n",
              "      <th>v6</th>\n",
              "      <th>v7</th>\n",
              "      <th>v8</th>\n",
              "      <th>v9</th>\n",
              "      <th>v10</th>\n",
              "      <th>v11</th>\n",
              "      <th>v12</th>\n",
              "      <th>v13</th>\n",
              "      <th>v14</th>\n",
              "      <th>v15</th>\n",
              "      <th>v16</th>\n",
              "      <th>v17</th>\n",
              "      <th>v18</th>\n",
              "      <th>v19</th>\n",
              "      <th>v20</th>\n",
              "      <th>v21</th>\n",
              "      <th>v22</th>\n",
              "      <th>v23</th>\n",
              "      <th>v24</th>\n",
              "      <th>v25</th>\n",
              "      <th>v26</th>\n",
              "      <th>v27</th>\n",
              "      <th>v28</th>\n",
              "      <th>amount</th>\n",
              "      <th>class</th>\n",
              "    </tr>\n",
              "  </thead>\n",
              "  <tbody>\n",
              "    <tr>\n",
              "      <th>0</th>\n",
              "      <td>127148.000000</td>\n",
              "      <td>2.187948</td>\n",
              "      <td>-0.787997</td>\n",
              "      <td>-1.168082</td>\n",
              "      <td>-0.805343</td>\n",
              "      <td>-0.136344</td>\n",
              "      <td>0.431473</td>\n",
              "      <td>-0.757733</td>\n",
              "      <td>0.114592</td>\n",
              "      <td>-0.362838</td>\n",
              "      <td>0.962553</td>\n",
              "      <td>-0.319027</td>\n",
              "      <td>0.388111</td>\n",
              "      <td>0.229752</td>\n",
              "      <td>0.066054</td>\n",
              "      <td>-0.644824</td>\n",
              "      <td>-0.843359</td>\n",
              "      <td>-0.702526</td>\n",
              "      <td>1.289779</td>\n",
              "      <td>0.200440</td>\n",
              "      <td>-0.563034</td>\n",
              "      <td>-0.898475</td>\n",
              "      <td>-2.081439</td>\n",
              "      <td>0.509445</td>\n",
              "      <td>-0.438340</td>\n",
              "      <td>-0.649181</td>\n",
              "      <td>0.069269</td>\n",
              "      <td>-0.040561</td>\n",
              "      <td>-0.058956</td>\n",
              "      <td>1.300003</td>\n",
              "      <td>0</td>\n",
              "    </tr>\n",
              "    <tr>\n",
              "      <th>1</th>\n",
              "      <td>112627.000000</td>\n",
              "      <td>2.066954</td>\n",
              "      <td>-1.026004</td>\n",
              "      <td>-1.485849</td>\n",
              "      <td>-1.008858</td>\n",
              "      <td>-0.543455</td>\n",
              "      <td>-0.846961</td>\n",
              "      <td>-0.405816</td>\n",
              "      <td>-0.234733</td>\n",
              "      <td>-0.654248</td>\n",
              "      <td>1.028197</td>\n",
              "      <td>0.631216</td>\n",
              "      <td>-0.338754</td>\n",
              "      <td>-0.319858</td>\n",
              "      <td>0.293845</td>\n",
              "      <td>-0.245219</td>\n",
              "      <td>1.261708</td>\n",
              "      <td>-0.229059</td>\n",
              "      <td>-0.559362</td>\n",
              "      <td>0.816746</td>\n",
              "      <td>0.103424</td>\n",
              "      <td>0.510846</td>\n",
              "      <td>1.277314</td>\n",
              "      <td>-0.131007</td>\n",
              "      <td>-0.354767</td>\n",
              "      <td>0.167285</td>\n",
              "      <td>0.074189</td>\n",
              "      <td>-0.056960</td>\n",
              "      <td>-0.067167</td>\n",
              "      <td>85.849998</td>\n",
              "      <td>0</td>\n",
              "    </tr>\n",
              "    <tr>\n",
              "      <th>2</th>\n",
              "      <td>132106.000000</td>\n",
              "      <td>2.000884</td>\n",
              "      <td>-0.207863</td>\n",
              "      <td>-0.765490</td>\n",
              "      <td>0.590913</td>\n",
              "      <td>-0.369543</td>\n",
              "      <td>-0.890470</td>\n",
              "      <td>-0.121794</td>\n",
              "      <td>-0.205423</td>\n",
              "      <td>0.778068</td>\n",
              "      <td>0.082856</td>\n",
              "      <td>-0.806540</td>\n",
              "      <td>0.323711</td>\n",
              "      <td>-0.027968</td>\n",
              "      <td>0.143700</td>\n",
              "      <td>0.311229</td>\n",
              "      <td>0.022528</td>\n",
              "      <td>-0.357533</td>\n",
              "      <td>-0.477134</td>\n",
              "      <td>-0.211184</td>\n",
              "      <td>-0.213401</td>\n",
              "      <td>-0.024742</td>\n",
              "      <td>0.074427</td>\n",
              "      <td>0.222003</td>\n",
              "      <td>0.005941</td>\n",
              "      <td>-0.222376</td>\n",
              "      <td>0.228743</td>\n",
              "      <td>-0.038421</td>\n",
              "      <td>-0.052367</td>\n",
              "      <td>14.949997</td>\n",
              "      <td>0</td>\n",
              "    </tr>\n",
              "    <tr>\n",
              "      <th>3</th>\n",
              "      <td>35627.003906</td>\n",
              "      <td>-1.423092</td>\n",
              "      <td>0.301318</td>\n",
              "      <td>1.306288</td>\n",
              "      <td>-1.495750</td>\n",
              "      <td>0.543258</td>\n",
              "      <td>-0.240477</td>\n",
              "      <td>0.659296</td>\n",
              "      <td>-0.261477</td>\n",
              "      <td>0.751233</td>\n",
              "      <td>0.776895</td>\n",
              "      <td>1.418473</td>\n",
              "      <td>0.446671</td>\n",
              "      <td>-0.146911</td>\n",
              "      <td>-0.527312</td>\n",
              "      <td>0.265199</td>\n",
              "      <td>0.475942</td>\n",
              "      <td>-1.048065</td>\n",
              "      <td>-0.319267</td>\n",
              "      <td>-0.678510</td>\n",
              "      <td>0.029519</td>\n",
              "      <td>-0.304615</td>\n",
              "      <td>-0.028347</td>\n",
              "      <td>0.297910</td>\n",
              "      <td>-0.273507</td>\n",
              "      <td>-0.168587</td>\n",
              "      <td>0.711468</td>\n",
              "      <td>-0.064392</td>\n",
              "      <td>-0.298739</td>\n",
              "      <td>7.680000</td>\n",
              "      <td>0</td>\n",
              "    </tr>\n",
              "    <tr>\n",
              "      <th>4</th>\n",
              "      <td>130626.000000</td>\n",
              "      <td>-0.848309</td>\n",
              "      <td>2.036294</td>\n",
              "      <td>-0.514868</td>\n",
              "      <td>0.793596</td>\n",
              "      <td>0.947615</td>\n",
              "      <td>-0.942526</td>\n",
              "      <td>0.933300</td>\n",
              "      <td>0.194335</td>\n",
              "      <td>-0.888198</td>\n",
              "      <td>-1.391948</td>\n",
              "      <td>0.001596</td>\n",
              "      <td>-0.160022</td>\n",
              "      <td>0.001576</td>\n",
              "      <td>-1.688312</td>\n",
              "      <td>0.391551</td>\n",
              "      <td>0.429482</td>\n",
              "      <td>1.679141</td>\n",
              "      <td>0.522060</td>\n",
              "      <td>-0.417385</td>\n",
              "      <td>-0.178865</td>\n",
              "      <td>-0.171933</td>\n",
              "      <td>-0.706292</td>\n",
              "      <td>-0.000750</td>\n",
              "      <td>0.830699</td>\n",
              "      <td>-0.314045</td>\n",
              "      <td>-0.957294</td>\n",
              "      <td>-0.192974</td>\n",
              "      <td>0.154074</td>\n",
              "      <td>7.500000</td>\n",
              "      <td>0</td>\n",
              "    </tr>\n",
              "    <tr>\n",
              "      <th>5</th>\n",
              "      <td>74639.000000</td>\n",
              "      <td>0.830764</td>\n",
              "      <td>-0.283697</td>\n",
              "      <td>0.489422</td>\n",
              "      <td>1.570227</td>\n",
              "      <td>-0.570017</td>\n",
              "      <td>0.267641</td>\n",
              "      <td>-0.329793</td>\n",
              "      <td>0.285899</td>\n",
              "      <td>0.617696</td>\n",
              "      <td>-0.595760</td>\n",
              "      <td>1.375441</td>\n",
              "      <td>0.912005</td>\n",
              "      <td>-0.812225</td>\n",
              "      <td>-1.102120</td>\n",
              "      <td>-0.844420</td>\n",
              "      <td>-0.161789</td>\n",
              "      <td>1.029869</td>\n",
              "      <td>0.264510</td>\n",
              "      <td>-0.326982</td>\n",
              "      <td>0.055639</td>\n",
              "      <td>0.054553</td>\n",
              "      <td>0.177866</td>\n",
              "      <td>-0.187114</td>\n",
              "      <td>0.147692</td>\n",
              "      <td>0.485415</td>\n",
              "      <td>-0.287111</td>\n",
              "      <td>0.059158</td>\n",
              "      <td>0.059476</td>\n",
              "      <td>126.540001</td>\n",
              "      <td>0</td>\n",
              "    </tr>\n",
              "    <tr>\n",
              "      <th>6</th>\n",
              "      <td>24215.000000</td>\n",
              "      <td>-0.372674</td>\n",
              "      <td>0.420728</td>\n",
              "      <td>2.645620</td>\n",
              "      <td>0.259254</td>\n",
              "      <td>-0.255019</td>\n",
              "      <td>0.678670</td>\n",
              "      <td>-0.068065</td>\n",
              "      <td>0.179656</td>\n",
              "      <td>1.616836</td>\n",
              "      <td>-0.706266</td>\n",
              "      <td>1.932383</td>\n",
              "      <td>-2.104641</td>\n",
              "      <td>0.724762</td>\n",
              "      <td>1.090108</td>\n",
              "      <td>-1.088622</td>\n",
              "      <td>-0.115311</td>\n",
              "      <td>0.544273</td>\n",
              "      <td>0.323876</td>\n",
              "      <td>-0.138717</td>\n",
              "      <td>-0.075128</td>\n",
              "      <td>-0.142066</td>\n",
              "      <td>0.126127</td>\n",
              "      <td>-0.112268</td>\n",
              "      <td>-0.034224</td>\n",
              "      <td>-0.385985</td>\n",
              "      <td>0.223578</td>\n",
              "      <td>-0.114847</td>\n",
              "      <td>-0.177288</td>\n",
              "      <td>11.500000</td>\n",
              "      <td>0</td>\n",
              "    </tr>\n",
              "    <tr>\n",
              "      <th>7</th>\n",
              "      <td>74656.000000</td>\n",
              "      <td>1.327500</td>\n",
              "      <td>-1.198182</td>\n",
              "      <td>0.213473</td>\n",
              "      <td>-1.734595</td>\n",
              "      <td>-0.529067</td>\n",
              "      <td>1.510847</td>\n",
              "      <td>-1.372949</td>\n",
              "      <td>0.524644</td>\n",
              "      <td>-2.081903</td>\n",
              "      <td>1.425985</td>\n",
              "      <td>1.867472</td>\n",
              "      <td>0.014814</td>\n",
              "      <td>0.277806</td>\n",
              "      <td>0.011601</td>\n",
              "      <td>0.991286</td>\n",
              "      <td>-1.371674</td>\n",
              "      <td>1.349894</td>\n",
              "      <td>-1.371784</td>\n",
              "      <td>-1.379697</td>\n",
              "      <td>-0.466984</td>\n",
              "      <td>-0.070458</td>\n",
              "      <td>0.319891</td>\n",
              "      <td>0.117268</td>\n",
              "      <td>-1.371351</td>\n",
              "      <td>0.084933</td>\n",
              "      <td>-0.073520</td>\n",
              "      <td>0.097858</td>\n",
              "      <td>-0.008872</td>\n",
              "      <td>6.000000</td>\n",
              "      <td>0</td>\n",
              "    </tr>\n",
              "    <tr>\n",
              "      <th>8</th>\n",
              "      <td>68551.000000</td>\n",
              "      <td>-0.751220</td>\n",
              "      <td>0.893167</td>\n",
              "      <td>2.158621</td>\n",
              "      <td>0.234005</td>\n",
              "      <td>0.270848</td>\n",
              "      <td>-0.444137</td>\n",
              "      <td>1.056523</td>\n",
              "      <td>-1.566908</td>\n",
              "      <td>0.689524</td>\n",
              "      <td>0.116981</td>\n",
              "      <td>-0.534112</td>\n",
              "      <td>0.154894</td>\n",
              "      <td>-0.316811</td>\n",
              "      <td>-0.934247</td>\n",
              "      <td>-1.040776</td>\n",
              "      <td>-0.666235</td>\n",
              "      <td>-0.391080</td>\n",
              "      <td>-0.490589</td>\n",
              "      <td>-0.643098</td>\n",
              "      <td>-0.228145</td>\n",
              "      <td>0.705140</td>\n",
              "      <td>0.233904</td>\n",
              "      <td>-0.239872</td>\n",
              "      <td>0.713543</td>\n",
              "      <td>-0.078437</td>\n",
              "      <td>-0.616601</td>\n",
              "      <td>-0.553230</td>\n",
              "      <td>-0.526805</td>\n",
              "      <td>14.900002</td>\n",
              "      <td>0</td>\n",
              "    </tr>\n",
              "    <tr>\n",
              "      <th>9</th>\n",
              "      <td>43410.000000</td>\n",
              "      <td>1.019694</td>\n",
              "      <td>0.127590</td>\n",
              "      <td>0.458570</td>\n",
              "      <td>1.325886</td>\n",
              "      <td>-0.311837</td>\n",
              "      <td>-0.553377</td>\n",
              "      <td>0.218094</td>\n",
              "      <td>-0.149310</td>\n",
              "      <td>-0.171315</td>\n",
              "      <td>-0.038402</td>\n",
              "      <td>0.234461</td>\n",
              "      <td>0.797097</td>\n",
              "      <td>0.787460</td>\n",
              "      <td>0.231785</td>\n",
              "      <td>1.084905</td>\n",
              "      <td>-0.266636</td>\n",
              "      <td>-0.119287</td>\n",
              "      <td>-0.709585</td>\n",
              "      <td>-0.986623</td>\n",
              "      <td>0.024164</td>\n",
              "      <td>0.175384</td>\n",
              "      <td>0.454393</td>\n",
              "      <td>-0.117186</td>\n",
              "      <td>0.430102</td>\n",
              "      <td>0.556289</td>\n",
              "      <td>-0.281896</td>\n",
              "      <td>0.026004</td>\n",
              "      <td>0.037023</td>\n",
              "      <td>81.169998</td>\n",
              "      <td>0</td>\n",
              "    </tr>\n",
              "  </tbody>\n",
              "</table>"
            ]
          },
          "metadata": {}
        }
      ]
    },
    {
      "cell_type": "markdown",
      "source": [
        "**Tabular Learner and training a model**\n"
      ],
      "metadata": {
        "id": "8cr_5Sw2kQup"
      }
    },
    {
      "cell_type": "markdown",
      "source": [
        "Now we can build our Learner! "
      ],
      "metadata": {
        "id": "HEQ3UUiFoDrA"
      }
    },
    {
      "cell_type": "code",
      "source": [
        "learn = tabular_learner(dls, layers = [800, 400], loss_func = CrossEntropyLossFlat(), metrics = [Precision(), Recall(), FBeta(beta = 1), RocAucBinary()])"
      ],
      "metadata": {
        "id": "9K8e2PVsLaPk"
      },
      "execution_count": null,
      "outputs": []
    },
    {
      "cell_type": "markdown",
      "source": [
        "And now we can fit!"
      ],
      "metadata": {
        "id": "njn3fFaHLpyQ"
      }
    },
    {
      "cell_type": "code",
      "source": [
        "lr = learn.lr_find()"
      ],
      "metadata": {
        "id": "rje0dMNnPiMR",
        "colab": {
          "base_uri": "https://localhost:8080/",
          "height": 286
        },
        "outputId": "7cae83d6-313e-4e9d-93a0-4f7aeb09c9d8"
      },
      "execution_count": null,
      "outputs": [
        {
          "output_type": "display_data",
          "data": {
            "text/plain": [
              "<IPython.core.display.HTML object>"
            ],
            "text/html": [
              "\n",
              "<style>\n",
              "    /* Turns off some styling */\n",
              "    progress {\n",
              "        /* gets rid of default border in Firefox and Opera. */\n",
              "        border: none;\n",
              "        /* Needs to be in here for Safari polyfill so background images work as expected. */\n",
              "        background-size: auto;\n",
              "    }\n",
              "    .progress-bar-interrupted, .progress-bar-interrupted::-webkit-progress-bar {\n",
              "        background: #F44336;\n",
              "    }\n",
              "</style>\n"
            ]
          },
          "metadata": {}
        },
        {
          "output_type": "display_data",
          "data": {
            "text/plain": [
              "<IPython.core.display.HTML object>"
            ],
            "text/html": [
              ""
            ]
          },
          "metadata": {}
        },
        {
          "output_type": "display_data",
          "data": {
            "text/plain": [
              "<Figure size 432x288 with 1 Axes>"
            ],
            "image/png": "[encoded data removed]"
          },
          "metadata": {
            "needs_background": "light"
          }
        }
      ]
    },
    {
      "cell_type": "code",
      "source": [
        "callbacks = [EarlyStoppingCallback(patience = 5), SaveModelCallback()]"
      ],
      "metadata": {
        "id": "tHLVk1PsUQUH"
      },
      "execution_count": null,
      "outputs": []
    },
    {
      "cell_type": "code",
      "source": [
        "# Train the model with early stop and save model callbacks\n",
        "learn.fit_one_cycle(100, lr_max = lr.valley, cbs = callbacks)"
      ],
      "metadata": {
        "id": "OzBIQufYPn_b",
        "colab": {
          "base_uri": "https://localhost:8080/",
          "height": 605
        },
        "outputId": "c26506b3-07c8-4314-a073-2af0f8bf1828"
      },
      "execution_count": null,
      "outputs": [
        {
          "output_type": "display_data",
          "data": {
            "text/plain": [
              "<IPython.core.display.HTML object>"
            ],
            "text/html": [
              "\n",
              "<style>\n",
              "    /* Turns off some styling */\n",
              "    progress {\n",
              "        /* gets rid of default border in Firefox and Opera. */\n",
              "        border: none;\n",
              "        /* Needs to be in here for Safari polyfill so background images work as expected. */\n",
              "        background-size: auto;\n",
              "    }\n",
              "    .progress-bar-interrupted, .progress-bar-interrupted::-webkit-progress-bar {\n",
              "        background: #F44336;\n",
              "    }\n",
              "</style>\n"
            ]
          },
          "metadata": {}
        },
        {
          "output_type": "display_data",
          "data": {
            "text/plain": [
              "<IPython.core.display.HTML object>"
            ],
            "text/html": [
              "<table border=\"1\" class=\"dataframe\">\n",
              "  <thead>\n",
              "    <tr style=\"text-align: left;\">\n",
              "      <th>epoch</th>\n",
              "      <th>train_loss</th>\n",
              "      <th>valid_loss</th>\n",
              "      <th>precision_score</th>\n",
              "      <th>recall_score</th>\n",
              "      <th>fbeta_score</th>\n",
              "      <th>roc_auc_score</th>\n",
              "      <th>time</th>\n",
              "    </tr>\n",
              "  </thead>\n",
              "  <tbody>\n",
              "    <tr>\n",
              "      <td>0</td>\n",
              "      <td>0.624674</td>\n",
              "      <td>0.597164</td>\n",
              "      <td>0.020956</td>\n",
              "      <td>0.876543</td>\n",
              "      <td>0.040934</td>\n",
              "      <td>0.914107</td>\n",
              "      <td>00:12</td>\n",
              "    </tr>\n",
              "    <tr>\n",
              "      <td>1</td>\n",
              "      <td>0.541134</td>\n",
              "      <td>0.505938</td>\n",
              "      <td>0.083032</td>\n",
              "      <td>0.851852</td>\n",
              "      <td>0.151316</td>\n",
              "      <td>0.909640</td>\n",
              "      <td>00:12</td>\n",
              "    </tr>\n",
              "    <tr>\n",
              "      <td>2</td>\n",
              "      <td>0.415640</td>\n",
              "      <td>0.377216</td>\n",
              "      <td>0.289256</td>\n",
              "      <td>0.864198</td>\n",
              "      <td>0.433437</td>\n",
              "      <td>0.932745</td>\n",
              "      <td>00:12</td>\n",
              "    </tr>\n",
              "    <tr>\n",
              "      <td>3</td>\n",
              "      <td>0.254199</td>\n",
              "      <td>0.239592</td>\n",
              "      <td>0.752809</td>\n",
              "      <td>0.827160</td>\n",
              "      <td>0.788235</td>\n",
              "      <td>0.936352</td>\n",
              "      <td>00:12</td>\n",
              "    </tr>\n",
              "    <tr>\n",
              "      <td>4</td>\n",
              "      <td>0.118871</td>\n",
              "      <td>0.081929</td>\n",
              "      <td>0.773810</td>\n",
              "      <td>0.802469</td>\n",
              "      <td>0.787879</td>\n",
              "      <td>0.888445</td>\n",
              "      <td>00:12</td>\n",
              "    </tr>\n",
              "    <tr>\n",
              "      <td>5</td>\n",
              "      <td>0.036872</td>\n",
              "      <td>0.022652</td>\n",
              "      <td>0.815789</td>\n",
              "      <td>0.765432</td>\n",
              "      <td>0.789809</td>\n",
              "      <td>0.905010</td>\n",
              "      <td>00:12</td>\n",
              "    </tr>\n",
              "    <tr>\n",
              "      <td>6</td>\n",
              "      <td>0.017848</td>\n",
              "      <td>0.012705</td>\n",
              "      <td>0.853333</td>\n",
              "      <td>0.790123</td>\n",
              "      <td>0.820513</td>\n",
              "      <td>0.896383</td>\n",
              "      <td>00:12</td>\n",
              "    </tr>\n",
              "    <tr>\n",
              "      <td>7</td>\n",
              "      <td>0.007791</td>\n",
              "      <td>0.006992</td>\n",
              "      <td>0.835443</td>\n",
              "      <td>0.814815</td>\n",
              "      <td>0.825000</td>\n",
              "      <td>0.922001</td>\n",
              "      <td>00:11</td>\n",
              "    </tr>\n",
              "    <tr>\n",
              "      <td>8</td>\n",
              "      <td>0.007417</td>\n",
              "      <td>0.021120</td>\n",
              "      <td>0.769231</td>\n",
              "      <td>0.864198</td>\n",
              "      <td>0.813953</td>\n",
              "      <td>0.945996</td>\n",
              "      <td>00:11</td>\n",
              "    </tr>\n",
              "    <tr>\n",
              "      <td>9</td>\n",
              "      <td>0.006057</td>\n",
              "      <td>0.011885</td>\n",
              "      <td>0.795181</td>\n",
              "      <td>0.814815</td>\n",
              "      <td>0.804878</td>\n",
              "      <td>0.891214</td>\n",
              "      <td>00:17</td>\n",
              "    </tr>\n",
              "    <tr>\n",
              "      <td>10</td>\n",
              "      <td>0.004538</td>\n",
              "      <td>0.027771</td>\n",
              "      <td>0.775281</td>\n",
              "      <td>0.851852</td>\n",
              "      <td>0.811765</td>\n",
              "      <td>0.924460</td>\n",
              "      <td>00:14</td>\n",
              "    </tr>\n",
              "    <tr>\n",
              "      <td>11</td>\n",
              "      <td>0.007097</td>\n",
              "      <td>0.012980</td>\n",
              "      <td>0.731959</td>\n",
              "      <td>0.876543</td>\n",
              "      <td>0.797753</td>\n",
              "      <td>0.953484</td>\n",
              "      <td>00:11</td>\n",
              "    </tr>\n",
              "    <tr>\n",
              "      <td>12</td>\n",
              "      <td>0.006468</td>\n",
              "      <td>0.012019</td>\n",
              "      <td>0.959184</td>\n",
              "      <td>0.580247</td>\n",
              "      <td>0.723077</td>\n",
              "      <td>0.803770</td>\n",
              "      <td>00:11</td>\n",
              "    </tr>\n",
              "  </tbody>\n",
              "</table>"
            ]
          },
          "metadata": {}
        },
        {
          "output_type": "stream",
          "name": "stdout",
          "text": [
            "Better model found at epoch 0 with valid_loss value: 0.5971642732620239.\n",
            "Better model found at epoch 1 with valid_loss value: 0.5059383511543274.\n",
            "Better model found at epoch 2 with valid_loss value: 0.37721574306488037.\n",
            "Better model found at epoch 3 with valid_loss value: 0.23959216475486755.\n",
            "Better model found at epoch 4 with valid_loss value: 0.08192850649356842.\n",
            "Better model found at epoch 5 with valid_loss value: 0.022652270272374153.\n",
            "Better model found at epoch 6 with valid_loss value: 0.012705203145742416.\n",
            "Better model found at epoch 7 with valid_loss value: 0.0069921426475048065.\n",
            "No improvement since epoch 7: early stopping\n"
          ]
        }
      ]
    },
    {
      "cell_type": "markdown",
      "source": [
        "Considering the fact that is dataset is highly imbalanced, a precision of 0.84 and recall of 0.81 is actually very impressive, this gives an F1 score of 0.83 and a ROC AUC score of 0.92."
      ],
      "metadata": {
        "id": "kN7vFU0wL3xE"
      }
    },
    {
      "cell_type": "code",
      "source": [
        "learn.validate()"
      ],
      "metadata": {
        "colab": {
          "base_uri": "https://localhost:8080/",
          "height": 34
        },
        "id": "ymbSnudegDb6",
        "outputId": "7e08167d-367d-4382-9614-bc2d7433995c"
      },
      "execution_count": null,
      "outputs": [
        {
          "output_type": "display_data",
          "data": {
            "text/plain": [
              "<IPython.core.display.HTML object>"
            ],
            "text/html": [
              "\n",
              "<style>\n",
              "    /* Turns off some styling */\n",
              "    progress {\n",
              "        /* gets rid of default border in Firefox and Opera. */\n",
              "        border: none;\n",
              "        /* Needs to be in here for Safari polyfill so background images work as expected. */\n",
              "        background-size: auto;\n",
              "    }\n",
              "    .progress-bar-interrupted, .progress-bar-interrupted::-webkit-progress-bar {\n",
              "        background: #F44336;\n",
              "    }\n",
              "</style>\n"
            ]
          },
          "metadata": {}
        },
        {
          "output_type": "display_data",
          "data": {
            "text/plain": [
              "<IPython.core.display.HTML object>"
            ],
            "text/html": [
              ""
            ]
          },
          "metadata": {}
        },
        {
          "output_type": "execute_result",
          "data": {
            "text/plain": [
              "(#5) [0.0069921426475048065,0.8354430379746836,0.8148148148148148,0.825,0.9220014079739478]"
            ]
          },
          "metadata": {},
          "execution_count": 588
        }
      ]
    },
    {
      "cell_type": "markdown",
      "source": [
        "**Assess the performance of the model**"
      ],
      "metadata": {
        "id": "-CAdryNr3gTa"
      }
    },
    {
      "cell_type": "markdown",
      "source": [
        "There are a few ways we can assess the performance of a neural network model. I’ve gone with a few of the most commonly used metrics: ROC/AUC, and the F1 score. "
      ],
      "metadata": {
        "id": "PuhoQ45A3rDe"
      }
    },
    {
      "cell_type": "code",
      "source": [
        "test_df.drop(['class'], axis = 1, inplace = True)\n",
        "dl = learn.dls.test_dl(test_df)"
      ],
      "metadata": {
        "id": "5k2slFO69j8m"
      },
      "execution_count": null,
      "outputs": []
    },
    {
      "cell_type": "code",
      "source": [
        "preds = learn.get_preds(dl = dl)"
      ],
      "metadata": {
        "id": "T6QeRbVb984W",
        "colab": {
          "base_uri": "https://localhost:8080/",
          "height": 17
        },
        "outputId": "05273c7f-cb15-44ad-8e53-709d04f3552a"
      },
      "execution_count": null,
      "outputs": [
        {
          "output_type": "display_data",
          "data": {
            "text/plain": [
              "<IPython.core.display.HTML object>"
            ],
            "text/html": [
              "\n",
              "<style>\n",
              "    /* Turns off some styling */\n",
              "    progress {\n",
              "        /* gets rid of default border in Firefox and Opera. */\n",
              "        border: none;\n",
              "        /* Needs to be in here for Safari polyfill so background images work as expected. */\n",
              "        background-size: auto;\n",
              "    }\n",
              "    .progress-bar-interrupted, .progress-bar-interrupted::-webkit-progress-bar {\n",
              "        background: #F44336;\n",
              "    }\n",
              "</style>\n"
            ]
          },
          "metadata": {}
        },
        {
          "output_type": "display_data",
          "data": {
            "text/plain": [
              "<IPython.core.display.HTML object>"
            ],
            "text/html": [
              ""
            ]
          },
          "metadata": {}
        }
      ]
    },
    {
      "cell_type": "code",
      "source": [
        "y_pred = np.argmax(preds[0], axis = 1).numpy()"
      ],
      "metadata": {
        "id": "D7fc0BSYbSZr"
      },
      "execution_count": null,
      "outputs": []
    },
    {
      "cell_type": "code",
      "source": [
        "from sklearn.metrics import roc_auc_score"
      ],
      "metadata": {
        "id": "LKZNBHKfL4Dn"
      },
      "execution_count": null,
      "outputs": []
    },
    {
      "cell_type": "code",
      "source": [
        "roc_auc_score(y_pred, y_test)"
      ],
      "metadata": {
        "colab": {
          "base_uri": "https://localhost:8080/"
        },
        "id": "y7ki4-odbX6T",
        "outputId": "60852b51-677c-4a3e-efb1-b9481fda72de"
      },
      "execution_count": null,
      "outputs": [
        {
          "output_type": "execute_result",
          "data": {
            "text/plain": [
              "0.916502538130576"
            ]
          },
          "metadata": {},
          "execution_count": 592
        }
      ]
    },
    {
      "cell_type": "code",
      "source": [
        "from sklearn.metrics import f1_score"
      ],
      "metadata": {
        "id": "-jSfsYeHTPHs"
      },
      "execution_count": null,
      "outputs": []
    },
    {
      "cell_type": "code",
      "source": [
        "f1_score(y_pred, y_test)"
      ],
      "metadata": {
        "colab": {
          "base_uri": "https://localhost:8080/"
        },
        "id": "O5E8Y8rxThv_",
        "outputId": "0f2574b5-b77e-4292-b891-50f54fa17700"
      },
      "execution_count": null,
      "outputs": [
        {
          "output_type": "execute_result",
          "data": {
            "text/plain": [
              "0.8219178082191781"
            ]
          },
          "metadata": {},
          "execution_count": 594
        }
      ]
    },
    {
      "cell_type": "markdown",
      "source": [
        "To examine how well the model performed in a little more detail we can make use of the classification_report( ) and confusion_matrix( ) functions. The classification report shows us the precision, recall, and F1 score for our predictions."
      ],
      "metadata": {
        "id": "1uhkflPz33YV"
      }
    },
    {
      "cell_type": "code",
      "source": [
        "from sklearn.metrics import classification_report"
      ],
      "metadata": {
        "id": "abWBS9BK2-Yj"
      },
      "execution_count": null,
      "outputs": []
    },
    {
      "cell_type": "code",
      "source": [
        "print(classification_report(y_test, y_pred))"
      ],
      "metadata": {
        "colab": {
          "base_uri": "https://localhost:8080/"
        },
        "id": "hiUCQHmL3w9m",
        "outputId": "a0da598a-1849-4f8b-8893-eef653f366c6"
      },
      "execution_count": null,
      "outputs": [
        {
          "output_type": "stream",
          "name": "stdout",
          "text": [
            "              precision    recall  f1-score   support\n",
            "\n",
            "           0       1.00      1.00      1.00     85295\n",
            "           1       0.83      0.81      0.82       148\n",
            "\n",
            "    accuracy                           1.00     85443\n",
            "   macro avg       0.92      0.91      0.91     85443\n",
            "weighted avg       1.00      1.00      1.00     85443\n",
            "\n"
          ]
        }
      ]
    },
    {
      "cell_type": "markdown",
      "source": [
        "The confusion matrix (possibly so-named because everyone finds it so confusing to interpret) shows us that:\n",
        "\n",
        "* 39778 true negatives (the customers didn’t commit fraud, and we predicted this correctly)\n",
        "\n",
        "* 66 true positives (the customers did commit fraud, and we predicted this correctly)\n",
        "\n",
        "* 13 false positives (the customers didn’t commit fraud, but we wrongly predicted that they would)\n",
        "\n",
        "* 15 false negatives (the customers did commit fraud, but we wrongly predicted that they wouldn’t)\n",
        "\n",
        "Out of 39872 predictions, we got it right 39844 times, and we got it wrong just 28 times.\n",
        "\n"
      ],
      "metadata": {
        "id": "A0Hl9nj74yVA"
      }
    },
    {
      "cell_type": "code",
      "source": [
        "interp = ClassificationInterpretation.from_learner(learn)"
      ],
      "metadata": {
        "id": "1-wrYvhb0qU9"
      },
      "execution_count": null,
      "outputs": []
    },
    {
      "cell_type": "code",
      "source": [
        "interp.plot_confusion_matrix()"
      ],
      "metadata": {
        "colab": {
          "base_uri": "https://localhost:8080/",
          "height": 311
        },
        "id": "xClL1DEe1QQo",
        "outputId": "442af5cf-539d-4645-bbbf-d0052f26f815"
      },
      "execution_count": null,
      "outputs": [
        {
          "output_type": "display_data",
          "data": {
            "text/plain": [
              "<IPython.core.display.HTML object>"
            ],
            "text/html": [
              "\n",
              "<style>\n",
              "    /* Turns off some styling */\n",
              "    progress {\n",
              "        /* gets rid of default border in Firefox and Opera. */\n",
              "        border: none;\n",
              "        /* Needs to be in here for Safari polyfill so background images work as expected. */\n",
              "        background-size: auto;\n",
              "    }\n",
              "    .progress-bar-interrupted, .progress-bar-interrupted::-webkit-progress-bar {\n",
              "        background: #F44336;\n",
              "    }\n",
              "</style>\n"
            ]
          },
          "metadata": {}
        },
        {
          "output_type": "display_data",
          "data": {
            "text/plain": [
              "<IPython.core.display.HTML object>"
            ],
            "text/html": [
              ""
            ]
          },
          "metadata": {}
        },
        {
          "output_type": "display_data",
          "data": {
            "text/plain": [
              "<Figure size 432x288 with 1 Axes>"
            ],
            "image/png": "[encoded data removed]"
          },
          "metadata": {
            "needs_background": "light"
          }
        }
      ]
    },
    {
      "cell_type": "markdown",
      "source": [
        "**Exporting TabularPandas**"
      ],
      "metadata": {
        "id": "vW5C1wjidlRL"
      }
    },
    {
      "cell_type": "markdown",
      "source": [
        "This will create a file named 'export.pkl' in the directory where we were working that contains everything we need to deploy our model (the model, the weights but also some metadata like the classes or the transforms/normalization used)."
      ],
      "metadata": {
        "id": "Dg1osYBY4Pi8"
      }
    },
    {
      "cell_type": "code",
      "source": [
        "learn.export()"
      ],
      "metadata": {
        "id": "WLoUAN2ourXV"
      },
      "execution_count": null,
      "outputs": []
    }
  ]
}